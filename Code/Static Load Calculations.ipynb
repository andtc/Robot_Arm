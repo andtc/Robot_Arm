{
 "cells": [
  {
   "cell_type": "markdown",
   "metadata": {},
   "source": [
    "# Static Load Calculation"
   ]
  },
  {
   "cell_type": "markdown",
   "metadata": {},
   "source": [
    "This code is used to calculate the static loads of the arm to find the holding torque required in each joint. The code outputs the Torque of DOF 2-5 in kg-cm, N-m and oz-in\n",
    "\n",
    "Inputs: The Material Specification allows user to type in the Cross sectional area of the arm material to be used and the sproperties of said arm Material\n",
    "\n",
    "The next section consists of the inputs for each arm segment where Degree of Freedom(DOF) 1 is located at the base and DOF 5 is the end effector\n",
    "\n",
    "DOF 1 is not included in this code since it is not part of the arm so it plays no role on the holding torque of the arm.\n",
    "DOF 2-4 have the same inputs of Arm,Motor,Igus Joint Mass and Length whereas DOF 5 has an additional input for the load to be carried"
   ]
  },
  {
   "cell_type": "markdown",
   "metadata": {},
   "source": [
    "## Libraries"
   ]
  },
  {
   "cell_type": "code",
   "execution_count": 3,
   "metadata": {},
   "outputs": [],
   "source": [
    "import pandas as pd\n",
    "import numpy as np\n",
    "import sympy as sym\n",
    "import matplotlib.pyplot as plt\n",
    "import matplotlib.image as mpimg\n",
    "import cv2"
   ]
  },
  {
   "cell_type": "markdown",
   "metadata": {},
   "source": [
    "## Constants"
   ]
  },
  {
   "cell_type": "code",
   "execution_count": 21,
   "metadata": {},
   "outputs": [],
   "source": [
    "g=9.81#gravity m/s^2\n",
    "I=1 #Second Moment of Inertia\n",
    "E=1 #Elastic Modulus"
   ]
  },
  {
   "cell_type": "markdown",
   "metadata": {},
   "source": [
    "## Material Specifications"
   ]
  },
  {
   "cell_type": "code",
   "execution_count": 22,
   "metadata": {},
   "outputs": [],
   "source": [
    "Area=19.19 #cm^2\n",
    "rho=2.7 #material Density in g/cm^3\n",
    "wg=(rho*Area)/1000 #Weight per unit length kg/cm"
   ]
  },
  {
   "cell_type": "markdown",
   "metadata": {},
   "source": [
    "# Degree of Freedom Parameters"
   ]
  },
  {
   "cell_type": "markdown",
   "metadata": {},
   "source": [
    "The first degree (base) is not included since it is rotary and does not contribute to torque calculations\n",
    "\n",
    "Glossary:\n",
    "\n",
    "L= Length of Arm in cm\n",
    "\n",
    "IJ= Igus Joint Mass in kg\n",
    "\n",
    "AW= Arm Mass in kg\n",
    "\n",
    "MW= Motor Mass kg\n",
    "\n",
    "CW= Combined Mass of Igus and Motor kg\n",
    "\n",
    "WJ= Weight of joint N\n",
    "\n",
    "AW= Arm Weight N"
   ]
  },
  {
   "cell_type": "markdown",
   "metadata": {},
   "source": [
    "## 2nd Degree"
   ]
  },
  {
   "cell_type": "code",
   "execution_count": 23,
   "metadata": {},
   "outputs": [],
   "source": [
    "IJ2=2.05\n",
    "MW2=1.2\n",
    "CW2=IJ2+MW2\n",
    "WJ2=CW2*g"
   ]
  },
  {
   "cell_type": "markdown",
   "metadata": {},
   "source": [
    "## 3rd Degree"
   ]
  },
  {
   "cell_type": "code",
   "execution_count": 24,
   "metadata": {},
   "outputs": [],
   "source": [
    "L12=6#cm\n",
    "L820=14.2#cm\n",
    "L11=16.2#cm\n",
    "IJ3=0.79\n",
    "W12=.09#kg mass of section connecting 820 to RLD 30\n",
    "Wv=.66#kg mass of Vacuum\n",
    "W820=.2#kg mass of 820 section\n",
    "W11=.39#kg mass of connection piece\n",
    "MW3=1.3 #kg mass of motor and mount\n",
    "CW3=IJ3+MW3\n",
    "WJ3=CW3*g\n",
    "AW12=W12*g\n",
    "WV=Wv*g\n",
    "AW820=W820*g\n",
    "AW11=W11*g"
   ]
  },
  {
   "cell_type": "markdown",
   "metadata": {},
   "source": [
    "## 4th Degree"
   ]
  },
  {
   "cell_type": "code",
   "execution_count": 25,
   "metadata": {},
   "outputs": [],
   "source": [
    "L4=24.64\n",
    "IJ4=0.41\n",
    "AM4=0.38\n",
    "MW4=1.3\n",
    "CW4=IJ4+MW4\n",
    "WJ4=CW4*g\n",
    "AW4=AM4*g"
   ]
  },
  {
   "cell_type": "markdown",
   "metadata": {},
   "source": [
    "## 5th Degree"
   ]
  },
  {
   "cell_type": "code",
   "execution_count": 26,
   "metadata": {},
   "outputs": [],
   "source": [
    "L5=11.23#cm\n",
    "IJ5=0#no Joint\n",
    "AM5=.21#Arm Mass kg\n",
    "MW5=1.2#Motor Weight\n",
    "CW5=IJ5+MW5\n",
    "WJ5=CW5*g#Weight N\n",
    "AW5=AM5*g#Weight N\n",
    "CM5=12.38#cm Center of Mass"
   ]
  },
  {
   "cell_type": "markdown",
   "metadata": {},
   "source": [
    "## End Effector"
   ]
  },
  {
   "cell_type": "code",
   "execution_count": 27,
   "metadata": {},
   "outputs": [],
   "source": [
    "Me=0.05#kg\n",
    "Load=0#kg\n",
    "We=Me*g#N\n",
    "F=Load*g#N\n",
    "mmt=0.054#mass of end effector mount\n",
    "Wmt=mmt*g#N"
   ]
  },
  {
   "cell_type": "markdown",
   "metadata": {},
   "source": [
    "## Weight"
   ]
  },
  {
   "cell_type": "code",
   "execution_count": 28,
   "metadata": {},
   "outputs": [],
   "source": [
    "WT=F+Wmt+We+AW5+WJ5+WJ4+AW4+WJ3+AW11+WV+AW820+AW12+AW2+WJ2"
   ]
  },
  {
   "cell_type": "code",
   "execution_count": 29,
   "metadata": {},
   "outputs": [
    {
     "name": "stdout",
     "output_type": "stream",
     "text": [
      "Weight of Arm= 116.13 N\n",
      "Mass of Arm= 11.84 kg\n"
     ]
    }
   ],
   "source": [
    "print('Weight of Arm=',\"%.2f\" % WT,'N' )\n",
    "MA=WT/g\n",
    "print('Mass of Arm=',\"%.2f\" % MA,'kg' )"
   ]
  },
  {
   "cell_type": "markdown",
   "metadata": {},
   "source": [
    "## Center of Mass Distance"
   ]
  },
  {
   "cell_type": "code",
   "execution_count": 37,
   "metadata": {},
   "outputs": [
    {
     "name": "stdout",
     "output_type": "stream",
     "text": [
      "Lmax= 81.61 cm\n"
     ]
    }
   ],
   "source": [
    "x1=9.34#cm\n",
    "x2=7.37#cm\n",
    "x3=19.75#cm\n",
    "x4=12.4#cm\n",
    "x5=10.41#cm\n",
    "x6=5.45#cm\n",
    "x7=25.91#cm\n",
    "x8=9.38#cm\n",
    "x9=33.22#cm\n",
    "x10=25.18#cm\n",
    "x11=20.87#cm\n",
    "x12=18.09#cm\n",
    "x13=4.33#cm\n",
    "Lmax=L12+L11+L820+L4+L5+x1\n",
    "print('Lmax=','%.2f'% Lmax,'cm')"
   ]
  },
  {
   "cell_type": "markdown",
   "metadata": {},
   "source": [
    "## Torque Calculations"
   ]
  },
  {
   "cell_type": "code",
   "execution_count": 31,
   "metadata": {},
   "outputs": [],
   "source": [
    "T5=((We+F)*x1+Wmt*x2)/g\n",
    "T4=((We+F)*x3+Wmt*x4+WJ5*x5+AW5*x6)/g\n",
    "T3=((We+F)*(x7+x3)+Wmt*(x7+x4)+WJ5*(x7+x5)+AW5*(x7+x6)+WJ4*x7+AW4*x8)/g\n",
    "T2=((We+F)*(x9+x7+x3)+Wmt*(x9+x7+x4)+WJ5*(x9+x7+x5)+AW5*(x9+x7+x6)+WJ4*(x9+x7)+AW4*(x9+x8)+(WJ3*x9)+AW12*x10+WV*x11+AW820*x12+AW11*x13)/g"
   ]
  },
  {
   "cell_type": "markdown",
   "metadata": {},
   "source": [
    "## Print Results"
   ]
  },
  {
   "cell_type": "code",
   "execution_count": 32,
   "metadata": {},
   "outputs": [
    {
     "data": {
      "text/html": [
       "<div>\n",
       "<style scoped>\n",
       "    .dataframe tbody tr th:only-of-type {\n",
       "        vertical-align: middle;\n",
       "    }\n",
       "\n",
       "    .dataframe tbody tr th {\n",
       "        vertical-align: top;\n",
       "    }\n",
       "\n",
       "    .dataframe thead th {\n",
       "        text-align: right;\n",
       "    }\n",
       "</style>\n",
       "<table border=\"1\" class=\"dataframe\">\n",
       "  <thead>\n",
       "    <tr style=\"text-align: right;\">\n",
       "      <th></th>\n",
       "      <th>kg-cm</th>\n",
       "      <th>N-m</th>\n",
       "      <th>oz-in</th>\n",
       "    </tr>\n",
       "  </thead>\n",
       "  <tbody>\n",
       "    <tr>\n",
       "      <th>DOF2</th>\n",
       "      <td>312.89</td>\n",
       "      <td>30.69</td>\n",
       "      <td>4346.09</td>\n",
       "    </tr>\n",
       "    <tr>\n",
       "      <th>DOF3</th>\n",
       "      <td>102.39</td>\n",
       "      <td>10.04</td>\n",
       "      <td>1422.22</td>\n",
       "    </tr>\n",
       "    <tr>\n",
       "      <th>DOF4</th>\n",
       "      <td>15.29</td>\n",
       "      <td>1.50</td>\n",
       "      <td>212.43</td>\n",
       "    </tr>\n",
       "    <tr>\n",
       "      <th>DOF5</th>\n",
       "      <td>0.86</td>\n",
       "      <td>0.08</td>\n",
       "      <td>12.01</td>\n",
       "    </tr>\n",
       "  </tbody>\n",
       "</table>\n",
       "</div>"
      ],
      "text/plain": [
       "       kg-cm    N-m    oz-in\n",
       "DOF2  312.89  30.69  4346.09\n",
       "DOF3  102.39  10.04  1422.22\n",
       "DOF4   15.29   1.50   212.43\n",
       "DOF5    0.86   0.08    12.01"
      ]
     },
     "execution_count": 32,
     "metadata": {},
     "output_type": "execute_result"
    }
   ],
   "source": [
    "T={ 'kg-cm': [round(T2,2),round(T3,2),round(T4,2),round(T5,2)],'N-m': [round(T2*.0981,2),round(T3*.0981,2),round(T4*.0981,2),round(T5*.0981,2)],'oz-in': [round(T2*13.89,2),round(T3*13.89,2),round(T4*13.89,2),round(T5*13.89,2)]}\n",
    "pd.DataFrame(data=T,columns=['kg-cm','N-m','oz-in'], index=['DOF2', 'DOF3', 'DOF4', 'DOF5'])\n"
   ]
  },
  {
   "cell_type": "markdown",
   "metadata": {},
   "source": [
    "## Igus Calculations"
   ]
  },
  {
   "cell_type": "markdown",
   "metadata": {},
   "source": [
    "### RLD-50-S-48-ST"
   ]
  },
  {
   "cell_type": "code",
   "execution_count": 33,
   "metadata": {},
   "outputs": [],
   "source": [
    "GR50S=48#Gear Ratio\n",
    "MT50S=50#N m\n",
    "Eff50S=0.35 #Efficiency"
   ]
  },
  {
   "cell_type": "markdown",
   "metadata": {},
   "source": [
    "### RLD-30-S-50-ST"
   ]
  },
  {
   "cell_type": "code",
   "execution_count": 34,
   "metadata": {},
   "outputs": [],
   "source": [
    "GR30S=50#Gear Ratio\n",
    "MT30S=20#N m\n",
    "Eff30S=0.35 #Efficiency"
   ]
  },
  {
   "cell_type": "markdown",
   "metadata": {},
   "source": [
    "### RLD-20-S-38-ST"
   ]
  },
  {
   "cell_type": "code",
   "execution_count": 35,
   "metadata": {},
   "outputs": [],
   "source": [
    "GR20S=38#Gear Ratio\n",
    "MT20S=20#N m\n",
    "Eff20S=0.40 #Efficiency"
   ]
  },
  {
   "cell_type": "markdown",
   "metadata": {},
   "source": [
    "## Stepper Motors"
   ]
  },
  {
   "cell_type": "markdown",
   "metadata": {},
   "source": [
    "### NEMA 23: 23HS22-2804D-E1000"
   ]
  },
  {
   "cell_type": "code",
   "execution_count": 28,
   "metadata": {},
   "outputs": [],
   "source": [
    "x=sym.symbols ('x')#x in RPM\n",
    "Motor23=0.0007*x+0.8765#N-m"
   ]
  },
  {
   "cell_type": "markdown",
   "metadata": {},
   "source": [
    "### NEMA 34: 34HS31-5504D-E1000"
   ]
  },
  {
   "cell_type": "code",
   "execution_count": 31,
   "metadata": {},
   "outputs": [],
   "source": [
    "y=sym.symbols('y')#y in  RPM\n",
    "Motor34=3E-14*y**5 - 9E-11*y**4 + 9E-8*y**3 - 4E-5*y**2 - 0.0004*y + 3.0134 #N-m"
   ]
  },
  {
   "cell_type": "code",
   "execution_count": null,
   "metadata": {},
   "outputs": [],
   "source": []
  }
 ],
 "metadata": {
  "kernelspec": {
   "display_name": "Python 3",
   "language": "python",
   "name": "python3"
  },
  "language_info": {
   "codemirror_mode": {
    "name": "ipython",
    "version": 3
   },
   "file_extension": ".py",
   "mimetype": "text/x-python",
   "name": "python",
   "nbconvert_exporter": "python",
   "pygments_lexer": "ipython3",
   "version": "3.6.3"
  }
 },
 "nbformat": 4,
 "nbformat_minor": 2
}
