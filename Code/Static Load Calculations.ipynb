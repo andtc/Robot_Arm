{
 "cells": [
  {
   "cell_type": "markdown",
   "metadata": {},
   "source": [
    "# Static Load Calculation"
   ]
  },
  {
   "cell_type": "markdown",
   "metadata": {},
   "source": [
    "This code is used to calculate the static loads of the arm to find the holding torque required in each joint. The code outputs the Torque of DOF 2-5 in kg-cm, N-m and oz-in\n",
    "\n",
    "Inputs: The Material Specification allows user to type in the Cross sectional area of the arm material to be used and the sproperties of said arm Material\n",
    "\n",
    "The next section consists of the inputs for each arm segment where Degree of Freedom(DOF) 1 is located at the base and DOF 5 is the end effector\n",
    "\n",
    "DOF 1 is not included in this code since it is not part of the arm so it plays no role on the holding torque of the arm.\n",
    "DOF 2-4 have the same inputs of Arm,Motor,Igus Joint Mass and Length whereas DOF 5 has an additional input for the load to be carried"
   ]
  },
  {
   "cell_type": "markdown",
   "metadata": {},
   "source": [
    "## Libraries"
   ]
  },
  {
   "cell_type": "code",
   "execution_count": 96,
   "metadata": {},
   "outputs": [],
   "source": [
    "import pandas as pd\n",
    "import numpy as np\n",
    "import sympy as sym\n",
    "import matplotlib.pyplot as plt\n",
    "import matplotlib.image as mpimg"
   ]
  },
  {
   "cell_type": "markdown",
   "metadata": {},
   "source": [
    "## Constants"
   ]
  },
  {
   "cell_type": "code",
   "execution_count": 97,
   "metadata": {},
   "outputs": [],
   "source": [
    "g=9.81#gravity m/s^2\n",
    "I=1 #Second Moment of Inertia\n",
    "E=1 #Elastic Modulus"
   ]
  },
  {
   "cell_type": "markdown",
   "metadata": {},
   "source": [
    "## Material Specifications"
   ]
  },
  {
   "cell_type": "code",
   "execution_count": 98,
   "metadata": {},
   "outputs": [],
   "source": [
    "Area=19.19 #cm^2\n",
    "rho=2.7 #material Density in g/cm^3\n",
    "wg=(rho*Area)/1000 #Weight per unit length kg/cm"
   ]
  },
  {
   "cell_type": "markdown",
   "metadata": {},
   "source": [
    "# Degree of Freedom Parameters"
   ]
  },
  {
   "cell_type": "markdown",
   "metadata": {},
   "source": [
    "The first degree (base) is not included since it is rotary and does not contribute to torque calculations\n",
    "\n",
    "Glossary:\n",
    "\n",
    "L= Length of Arm in cm\n",
    "\n",
    "IJ= Igus Joint Mass in kg\n",
    "\n",
    "AW= Arm Mass in kg\n",
    "\n",
    "MW= Motor Mass kg\n",
    "\n",
    "CW= Combined Mass of Igus and Motor kg\n",
    "\n",
    "WJ= Weight of joint N\n",
    "\n",
    "AW= Arm Weight N"
   ]
  },
  {
   "cell_type": "markdown",
   "metadata": {},
   "source": [
    "## 2nd Degree"
   ]
  },
  {
   "cell_type": "code",
   "execution_count": 99,
   "metadata": {},
   "outputs": [],
   "source": [
    "IJ2=2.05\n",
    "MW2=1.2\n",
    "CW2=IJ2+MW2\n",
    "WJ2=CW2*g"
   ]
  },
  {
   "cell_type": "markdown",
   "metadata": {},
   "source": [
    "## 3rd Degree"
   ]
  },
  {
   "cell_type": "code",
   "execution_count": 100,
   "metadata": {},
   "outputs": [],
   "source": [
    "L12=6#cm\n",
    "L820=14.2#cm\n",
    "L11=16.2#cm\n",
    "IJ3=0.79\n",
    "W12=.09#kg mass of section connecting 820 to RLD 30\n",
    "Wv=.66#kg mass of Vacuum\n",
    "W820=.2#kg mass of 820 section\n",
    "W11=.39#kg mass of connection piece\n",
    "MW3=1.3 #kg mass of motor and mount\n",
    "CW3=IJ3+MW3\n",
    "WJ3=CW3*g\n",
    "AW12=W12*g\n",
    "WV=Wv*g\n",
    "AW820=W820*g\n",
    "AW11=W11*g"
   ]
  },
  {
   "cell_type": "markdown",
   "metadata": {},
   "source": [
    "## 4th Degree"
   ]
  },
  {
   "cell_type": "code",
   "execution_count": 101,
   "metadata": {},
   "outputs": [],
   "source": [
    "L4=18.8\n",
    "IJ4=0.41\n",
    "AM4=0.2763\n",
    "MW4=1.2\n",
    "CW4=IJ4+MW4\n",
    "WJ4=CW4*g\n",
    "AW4=AM4*g"
   ]
  },
  {
   "cell_type": "markdown",
   "metadata": {},
   "source": [
    "## 5th Degree"
   ]
  },
  {
   "cell_type": "code",
   "execution_count": 102,
   "metadata": {},
   "outputs": [],
   "source": [
    "L5=18#cm\n",
    "IJ5=0#no Joint\n",
    "AM5=0.082#Arm Mass kg\n",
    "MW5=1.2#Motor Weight\n",
    "CW5=IJ5+MW5\n",
    "WJ5=CW5*g#Weight N\n",
    "AW5=AM5*g#Weight N\n",
    "CM5=12.38#cm Center of Mass"
   ]
  },
  {
   "cell_type": "markdown",
   "metadata": {},
   "source": [
    "## End Effector"
   ]
  },
  {
   "cell_type": "code",
   "execution_count": 103,
   "metadata": {},
   "outputs": [],
   "source": [
    "Me=0.6#kg\n",
    "Load=0#kg\n",
    "We=Me*g#N\n",
    "F=Load*g#N\n",
    "mmt=0.040#mass of end effector mount\n",
    "Wmt=mmt*g#N"
   ]
  },
  {
   "cell_type": "markdown",
   "metadata": {},
   "source": [
    "## Weight"
   ]
  },
  {
   "cell_type": "code",
   "execution_count": 104,
   "metadata": {},
   "outputs": [],
   "source": [
    "WT=F+Wmt+We+AW5+WJ5+WJ4+AW4+WJ3+AW11+WV+AW820+AW12+WJ2"
   ]
  },
  {
   "cell_type": "code",
   "execution_count": 105,
   "metadata": {},
   "outputs": [
    {
     "name": "stdout",
     "output_type": "stream",
     "text": [
      "Weight of Arm= 102.89 N\n",
      "Mass of Arm= 10.49 kg\n"
     ]
    }
   ],
   "source": [
    "print('Weight of Arm=',\"%.2f\" % WT,'N' )\n",
    "MA=WT/g\n",
    "print('Mass of Arm=',\"%.2f\" % MA,'kg' )"
   ]
  },
  {
   "cell_type": "markdown",
   "metadata": {},
   "source": [
    "## Center of Mass Distance"
   ]
  },
  {
   "cell_type": "code",
   "execution_count": 106,
   "metadata": {},
   "outputs": [
    {
     "name": "stdout",
     "output_type": "stream",
     "text": [
      "Lmax= 83.86 cm\n"
     ]
    }
   ],
   "source": [
    "x1=10.66#cm\n",
    "x2=7.69#cm\n",
    "x3=22.01#cm\n",
    "x4=19.04#cm\n",
    "x5=11.35#cm\n",
    "x6=11.33#cm\n",
    "x7=25.91#cm\n",
    "x8=6.91#cm\n",
    "x9=33.22#cm\n",
    "x10=25.18#cm\n",
    "x11=20.87#cm\n",
    "x12=18.09#cm\n",
    "x13=4.33#cm\n",
    "Lmax=L12+L11+L820+L4+L5+x1\n",
    "print('Lmax=','%.2f'% Lmax,'cm')"
   ]
  },
  {
   "cell_type": "markdown",
   "metadata": {},
   "source": [
    "## Torque Calculations"
   ]
  },
  {
   "cell_type": "code",
   "execution_count": 107,
   "metadata": {},
   "outputs": [],
   "source": [
    "T5=((We+F)*x1+Wmt*x2)/g\n",
    "T4=((We+F)*x3+Wmt*x4+WJ5*x5+AW5*x6)/g\n",
    "T3=((We+F)*(x7+x3)+Wmt*(x7+x4)+WJ5*(x7+x5)+AW5*(x7+x6)+WJ4*x7+AW4*x8)/g\n",
    "T2=((We+F)*(x9+x7+x3)+Wmt*(x9+x7+x4)+WJ5*(x9+x7+x5)+AW5*(x9+x7+x6)+WJ4*(x9+x7)+AW4*(x9+x8)+(WJ3*x9)+AW12*x10+WV*x11+AW820*x12+AW11*x13)/g"
   ]
  },
  {
   "cell_type": "markdown",
   "metadata": {},
   "source": [
    "## Print Results"
   ]
  },
  {
   "cell_type": "code",
   "execution_count": 108,
   "metadata": {},
   "outputs": [
    {
     "data": {
      "text/html": [
       "<div>\n",
       "<style scoped>\n",
       "    .dataframe tbody tr th:only-of-type {\n",
       "        vertical-align: middle;\n",
       "    }\n",
       "\n",
       "    .dataframe tbody tr th {\n",
       "        vertical-align: top;\n",
       "    }\n",
       "\n",
       "    .dataframe thead th {\n",
       "        text-align: right;\n",
       "    }\n",
       "</style>\n",
       "<table border=\"1\" class=\"dataframe\">\n",
       "  <thead>\n",
       "    <tr style=\"text-align: right;\">\n",
       "      <th></th>\n",
       "      <th>kg-cm</th>\n",
       "      <th>N-m</th>\n",
       "      <th>oz-in</th>\n",
       "    </tr>\n",
       "  </thead>\n",
       "  <tbody>\n",
       "    <tr>\n",
       "      <th>DOF2</th>\n",
       "      <td>339.23</td>\n",
       "      <td>33.28</td>\n",
       "      <td>4711.89</td>\n",
       "    </tr>\n",
       "    <tr>\n",
       "      <th>DOF3</th>\n",
       "      <td>121.94</td>\n",
       "      <td>11.96</td>\n",
       "      <td>1693.75</td>\n",
       "    </tr>\n",
       "    <tr>\n",
       "      <th>DOF4</th>\n",
       "      <td>28.52</td>\n",
       "      <td>2.80</td>\n",
       "      <td>396.10</td>\n",
       "    </tr>\n",
       "    <tr>\n",
       "      <th>DOF5</th>\n",
       "      <td>6.70</td>\n",
       "      <td>0.66</td>\n",
       "      <td>93.11</td>\n",
       "    </tr>\n",
       "  </tbody>\n",
       "</table>\n",
       "</div>"
      ],
      "text/plain": [
       "       kg-cm    N-m    oz-in\n",
       "DOF2  339.23  33.28  4711.89\n",
       "DOF3  121.94  11.96  1693.75\n",
       "DOF4   28.52   2.80   396.10\n",
       "DOF5    6.70   0.66    93.11"
      ]
     },
     "execution_count": 108,
     "metadata": {},
     "output_type": "execute_result"
    }
   ],
   "source": [
    "T={ 'kg-cm': [round(T2,2),round(T3,2),round(T4,2),round(T5,2)],'N-m': [round(T2*.0981,2),round(T3*.0981,2),round(T4*.0981,2),round(T5*.0981,2)],'oz-in': [round(T2*13.89,2),round(T3*13.89,2),round(T4*13.89,2),round(T5*13.89,2)]}\n",
    "pd.DataFrame(data=T,columns=['kg-cm','N-m','oz-in'], index=['DOF2', 'DOF3', 'DOF4', 'DOF5'])\n"
   ]
  },
  {
   "cell_type": "markdown",
   "metadata": {},
   "source": [
    "## Igus Calculations"
   ]
  },
  {
   "cell_type": "markdown",
   "metadata": {},
   "source": [
    "### RLD-50-S-48-ST"
   ]
  },
  {
   "cell_type": "code",
   "execution_count": 109,
   "metadata": {},
   "outputs": [],
   "source": [
    "GR50S=48#Gear Ratio\n",
    "MT50S=50#N m\n",
    "Eff50S=0.35 #Efficiency"
   ]
  },
  {
   "cell_type": "markdown",
   "metadata": {},
   "source": [
    "### RLD-30-S-50-ST"
   ]
  },
  {
   "cell_type": "code",
   "execution_count": 110,
   "metadata": {},
   "outputs": [],
   "source": [
    "GR30S=50#Gear Ratio\n",
    "MT30S=20#N m\n",
    "Eff30S=0.35 #Efficiency"
   ]
  },
  {
   "cell_type": "markdown",
   "metadata": {},
   "source": [
    "### RLD-20-S-38-ST"
   ]
  },
  {
   "cell_type": "code",
   "execution_count": 111,
   "metadata": {},
   "outputs": [],
   "source": [
    "GR20S=38#Gear Ratio\n",
    "MT20S=20#N m\n",
    "Eff20S=0.40 #Efficiency"
   ]
  },
  {
   "cell_type": "markdown",
   "metadata": {},
   "source": [
    "## Stepper Motors Torque Equations"
   ]
  },
  {
   "cell_type": "markdown",
   "metadata": {},
   "source": [
    "### NEMA 23: 23HS22-2804D-E1000"
   ]
  },
  {
   "cell_type": "code",
   "execution_count": 112,
   "metadata": {},
   "outputs": [],
   "source": [
    "x=sym.symbols ('x')#x in RPM\n",
    "Motor23=0.0007*x+0.8765#N-m"
   ]
  },
  {
   "cell_type": "markdown",
   "metadata": {},
   "source": [
    "### NEMA 34: 34HS31-5504D-E1000"
   ]
  },
  {
   "cell_type": "code",
   "execution_count": 113,
   "metadata": {},
   "outputs": [],
   "source": [
    "y=sym.symbols('y')#y in  RPM\n",
    "Motor34=3E-14*y**5 - 9E-11*y**4 + 9E-8*y**3 - 4E-5*y**2 - 0.0004*y + 3.0134 #N-m"
   ]
  },
  {
   "cell_type": "markdown",
   "metadata": {},
   "source": [
    "## DOF 1 Rotary Base Joint: RLD-50-A-48-ST"
   ]
  },
  {
   "cell_type": "code",
   "execution_count": 114,
   "metadata": {},
   "outputs": [],
   "source": [
    "#Input\n",
    "ARPM1=6#RPM of Arm\n",
    "TN1=6.06# N-m Torque needed at Base\n",
    "#Output\n",
    "MRPM1=ARPM1*GR50S\n",
    "TM1=Motor23.subs({x:MRPM1})\n",
    "TT1=Eff50S*TM1*GR50S"
   ]
  },
  {
   "cell_type": "markdown",
   "metadata": {},
   "source": [
    "## DOF 2 1st Arm Degree:RLD-50-S-48-ST"
   ]
  },
  {
   "cell_type": "code",
   "execution_count": 115,
   "metadata": {},
   "outputs": [],
   "source": [
    "#Input\n",
    "ARPM2=3#RPM of Arm\n",
    "TN2=30.7# N-m Torque needed 1st Joint\n",
    "#Output\n",
    "MRPM2=ARPM2*GR50S\n",
    "TM2=Motor34.subs({y:MRPM2})\n",
    "TT2=Eff50S*TM2*GR50S"
   ]
  },
  {
   "cell_type": "markdown",
   "metadata": {},
   "source": [
    "## DOF 3 2nd Arm Degree: RLD-30-S-50-ST"
   ]
  },
  {
   "cell_type": "code",
   "execution_count": 116,
   "metadata": {},
   "outputs": [],
   "source": [
    "#Input\n",
    "ARPM3=3#RPM of Arm\n",
    "TN3=10# N-m Torque needed at 2nd Joint\n",
    "#Output\n",
    "MRPM3=ARPM3*GR30S\n",
    "TM3=Motor23.subs({x:MRPM3})\n",
    "TT3=Eff30S*TM3*GR30S"
   ]
  },
  {
   "cell_type": "markdown",
   "metadata": {},
   "source": [
    "## DOF 4 Arm 3rd Degree: RLD-20-S-ST"
   ]
  },
  {
   "cell_type": "code",
   "execution_count": 117,
   "metadata": {},
   "outputs": [],
   "source": [
    "#Input\n",
    "ARPM4=12#RPM of Arm\n",
    "TN4=1.5# N-m Torque needed at 2nd Joint\n",
    "#Output\n",
    "MRPM4=ARPM4*GR20S\n",
    "TM4=Motor23.subs({x:MRPM4})\n",
    "TT4=Eff20S*TM4*GR20S"
   ]
  },
  {
   "cell_type": "markdown",
   "metadata": {},
   "source": [
    "## DOF 5 4rd Arm Degree: NEMA 23"
   ]
  },
  {
   "cell_type": "code",
   "execution_count": 118,
   "metadata": {},
   "outputs": [],
   "source": [
    "#Input\n",
    "MRPM5=400#RPM\n",
    "TN5=.08#N-m\n",
    "#Output\n",
    "TM5=Motor23.subs({x:MRPM5})"
   ]
  },
  {
   "cell_type": "code",
   "execution_count": 119,
   "metadata": {},
   "outputs": [
    {
     "data": {
      "text/html": [
       "<div>\n",
       "<style scoped>\n",
       "    .dataframe tbody tr th:only-of-type {\n",
       "        vertical-align: middle;\n",
       "    }\n",
       "\n",
       "    .dataframe tbody tr th {\n",
       "        vertical-align: top;\n",
       "    }\n",
       "\n",
       "    .dataframe thead th {\n",
       "        text-align: right;\n",
       "    }\n",
       "</style>\n",
       "<table border=\"1\" class=\"dataframe\">\n",
       "  <thead>\n",
       "    <tr style=\"text-align: right;\">\n",
       "      <th></th>\n",
       "      <th>Joint RPM</th>\n",
       "      <th>Motor RPM</th>\n",
       "      <th>Torque Transfered(N-m)</th>\n",
       "      <th>Torque Needed(N-m)</th>\n",
       "    </tr>\n",
       "  </thead>\n",
       "  <tbody>\n",
       "    <tr>\n",
       "      <th>DOF1</th>\n",
       "      <td>6</td>\n",
       "      <td>288</td>\n",
       "      <td>18.11</td>\n",
       "      <td>6.06</td>\n",
       "    </tr>\n",
       "    <tr>\n",
       "      <th>DOF2</th>\n",
       "      <td>3</td>\n",
       "      <td>144</td>\n",
       "      <td>39.62</td>\n",
       "      <td>33.28</td>\n",
       "    </tr>\n",
       "    <tr>\n",
       "      <th>DOF3</th>\n",
       "      <td>3</td>\n",
       "      <td>150</td>\n",
       "      <td>17.18</td>\n",
       "      <td>11.96</td>\n",
       "    </tr>\n",
       "    <tr>\n",
       "      <th>DOF4</th>\n",
       "      <td>12</td>\n",
       "      <td>456</td>\n",
       "      <td>18.17</td>\n",
       "      <td>2.80</td>\n",
       "    </tr>\n",
       "    <tr>\n",
       "      <th>DOF5</th>\n",
       "      <td>0</td>\n",
       "      <td>400</td>\n",
       "      <td>1.16</td>\n",
       "      <td>0.66</td>\n",
       "    </tr>\n",
       "  </tbody>\n",
       "</table>\n",
       "</div>"
      ],
      "text/plain": [
       "      Joint RPM  Motor RPM  Torque Transfered(N-m)  Torque Needed(N-m)\n",
       "DOF1          6        288                   18.11                6.06\n",
       "DOF2          3        144                   39.62               33.28\n",
       "DOF3          3        150                   17.18               11.96\n",
       "DOF4         12        456                   18.17                2.80\n",
       "DOF5          0        400                    1.16                0.66"
      ]
     },
     "execution_count": 119,
     "metadata": {},
     "output_type": "execute_result"
    }
   ],
   "source": [
    "IG={ 'Joint RPM': [round(ARPM1,2),round(ARPM2,2),round(ARPM3,2),round(ARPM4,2),0],'Motor RPM': [round(MRPM1,2),round(MRPM2,2),round(MRPM3,2),round(MRPM4,2),round(MRPM5,2)],'Torque Transfered(N-m)': [round(TT1,2),round(TT2,2),round(TT3,2),round(TT4,2),round(TM5,2)],'Torque Needed(N-m)': [round(TN1,2),round(T2*.0981,2),round(T3*.0981,2),round(T4*.0981,2),round(T5*.0981,2)]}\n",
    "pd.DataFrame(data=IG,columns=['Joint RPM','Motor RPM','Torque Transfered(N-m)','Torque Needed(N-m)'], index=['DOF1','DOF2', 'DOF3', 'DOF4', 'DOF5'])\n"
   ]
  },
  {
   "cell_type": "markdown",
   "metadata": {},
   "source": [
    "# Inertia Calculations"
   ]
  },
  {
   "cell_type": "markdown",
   "metadata": {},
   "source": [
    "Inertia Ratio=Inertia Load/Inertia Motor\n",
    "\n",
    "Inertia Motor=Inertia Load/(Gear Ratio^2)\n",
    "\n",
    "Inertia Ratio must be less than 10 for it to be safe"
   ]
  },
  {
   "cell_type": "markdown",
   "metadata": {},
   "source": [
    "## Equations"
   ]
  },
  {
   "cell_type": "code",
   "execution_count": 120,
   "metadata": {},
   "outputs": [],
   "source": [
    "Jl,R,Jm,JM=sym.symbols('Jl,R,Jm,JM')\n",
    "\n",
    "IR=Jl/JM\n",
    "Jm=Jl/R**2"
   ]
  },
  {
   "cell_type": "markdown",
   "metadata": {},
   "source": [
    "## Constants"
   ]
  },
  {
   "cell_type": "code",
   "execution_count": 121,
   "metadata": {},
   "outputs": [],
   "source": [
    "JNEMA23=300#g*cm^2\n",
    "JNEMA34=1400#g*cm^2"
   ]
  },
  {
   "cell_type": "code",
   "execution_count": 122,
   "metadata": {},
   "outputs": [],
   "source": [
    "# All Inertias are in g*cm^2\n",
    "IDOF1=29700\n",
    "IDOF2=27200\n",
    "IDOF3=27200\n",
    "IDOF4=4345\n",
    "IDOF5=653.2"
   ]
  },
  {
   "cell_type": "code",
   "execution_count": 123,
   "metadata": {},
   "outputs": [],
   "source": [
    "Jm1=Jm.subs({Jl:IDOF1,R:GR50S})\n",
    "Jm2=Jm.subs({Jl:IDOF2,R:GR50S})\n",
    "Jm3=Jm.subs({Jl:IDOF3,R:GR30S})\n",
    "Jm4=Jm.subs({Jl:IDOF4,R:GR20S})"
   ]
  },
  {
   "cell_type": "code",
   "execution_count": 124,
   "metadata": {},
   "outputs": [],
   "source": [
    "IR1=IR.subs({Jl:Jm1,JM:JNEMA23})\n",
    "IR2=IR.subs({Jl:Jm2,JM:JNEMA34})\n",
    "IR3=IR.subs({Jl:Jm3,JM:JNEMA23})\n",
    "IR4=IR.subs({Jl:Jm4,JM:JNEMA23})  \n",
    "IR5=IR.subs({Jl:IDOF5,JM:JNEMA23})\n"
   ]
  },
  {
   "cell_type": "code",
   "execution_count": 125,
   "metadata": {},
   "outputs": [
    {
     "data": {
      "text/html": [
       "<div>\n",
       "<style scoped>\n",
       "    .dataframe tbody tr th:only-of-type {\n",
       "        vertical-align: middle;\n",
       "    }\n",
       "\n",
       "    .dataframe tbody tr th {\n",
       "        vertical-align: top;\n",
       "    }\n",
       "\n",
       "    .dataframe thead th {\n",
       "        text-align: right;\n",
       "    }\n",
       "</style>\n",
       "<table border=\"1\" class=\"dataframe\">\n",
       "  <thead>\n",
       "    <tr style=\"text-align: right;\">\n",
       "      <th></th>\n",
       "      <th>Inertia Ratio</th>\n",
       "    </tr>\n",
       "  </thead>\n",
       "  <tbody>\n",
       "    <tr>\n",
       "      <th>DOF1</th>\n",
       "      <td>0.043</td>\n",
       "    </tr>\n",
       "    <tr>\n",
       "      <th>DOF2</th>\n",
       "      <td>0.008</td>\n",
       "    </tr>\n",
       "    <tr>\n",
       "      <th>DOF3</th>\n",
       "      <td>0.036</td>\n",
       "    </tr>\n",
       "    <tr>\n",
       "      <th>DOF4</th>\n",
       "      <td>0.010</td>\n",
       "    </tr>\n",
       "    <tr>\n",
       "      <th>DOF5</th>\n",
       "      <td>2.177</td>\n",
       "    </tr>\n",
       "  </tbody>\n",
       "</table>\n",
       "</div>"
      ],
      "text/plain": [
       "      Inertia Ratio\n",
       "DOF1          0.043\n",
       "DOF2          0.008\n",
       "DOF3          0.036\n",
       "DOF4          0.010\n",
       "DOF5          2.177"
      ]
     },
     "execution_count": 125,
     "metadata": {},
     "output_type": "execute_result"
    }
   ],
   "source": [
    "IC={ 'Inertia Ratio': [round(IR1,3),round(IR2,3),round(IR3,3),round(IR4,3),round(IR5,3)]}\n",
    "pd.DataFrame(data=IC, index=['DOF1','DOF2', 'DOF3', 'DOF4', 'DOF5'])"
   ]
  },
  {
   "cell_type": "code",
   "execution_count": null,
   "metadata": {},
   "outputs": [],
   "source": []
  }
 ],
 "metadata": {
  "kernelspec": {
   "display_name": "Python 3",
   "language": "python",
   "name": "python3"
  },
  "language_info": {
   "codemirror_mode": {
    "name": "ipython",
    "version": 3
   },
   "file_extension": ".py",
   "mimetype": "text/x-python",
   "name": "python",
   "nbconvert_exporter": "python",
   "pygments_lexer": "ipython3",
   "version": "3.6.3"
  }
 },
 "nbformat": 4,
 "nbformat_minor": 2
}
