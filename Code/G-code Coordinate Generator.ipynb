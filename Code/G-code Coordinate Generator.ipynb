{
 "cells": [
  {
   "cell_type": "markdown",
   "metadata": {},
   "source": [
    "# This code is to generate G-Code for the arm designed"
   ]
  },
  {
   "cell_type": "code",
   "execution_count": 67,
   "metadata": {},
   "outputs": [],
   "source": [
    "import sympy as sym\n",
    "import numpy as np\n",
    "import csv\n",
    "import pandas as pd\n",
    "pi=np.pi\n",
    "import time\n",
    "start_time = time.time()"
   ]
  },
  {
   "cell_type": "markdown",
   "metadata": {},
   "source": [
    "## Lengths"
   ]
  },
  {
   "cell_type": "code",
   "execution_count": 68,
   "metadata": {},
   "outputs": [],
   "source": [
    "L1=3.68#cm Base Height\n",
    "L2=36#cm\n",
    "L3=19.8#cm\n",
    "L4=14#cm\n",
    "L5=13.3#cm"
   ]
  },
  {
   "cell_type": "markdown",
   "metadata": {},
   "source": [
    "## Joint Movement Freedom"
   ]
  },
  {
   "cell_type": "markdown",
   "metadata": {},
   "source": [
    "## Joint 1"
   ]
  },
  {
   "cell_type": "code",
   "execution_count": 69,
   "metadata": {},
   "outputs": [],
   "source": [
    "D1min=0\n",
    "D1max=360"
   ]
  },
  {
   "cell_type": "markdown",
   "metadata": {},
   "source": [
    "## Joint 2"
   ]
  },
  {
   "cell_type": "code",
   "execution_count": 70,
   "metadata": {},
   "outputs": [],
   "source": [
    "D2min=0\n",
    "D2max=230"
   ]
  },
  {
   "cell_type": "markdown",
   "metadata": {},
   "source": [
    "## Joint 3"
   ]
  },
  {
   "cell_type": "code",
   "execution_count": 71,
   "metadata": {},
   "outputs": [],
   "source": [
    "D3min=0\n",
    "D3max=210"
   ]
  },
  {
   "cell_type": "markdown",
   "metadata": {},
   "source": [
    "## Joint 4"
   ]
  },
  {
   "cell_type": "code",
   "execution_count": 72,
   "metadata": {},
   "outputs": [],
   "source": [
    "D4min=0\n",
    "D4max=180"
   ]
  },
  {
   "cell_type": "markdown",
   "metadata": {},
   "source": [
    "## Joint 5"
   ]
  },
  {
   "cell_type": "code",
   "execution_count": 73,
   "metadata": {},
   "outputs": [],
   "source": [
    "D5min=0\n",
    "D5max=360"
   ]
  },
  {
   "cell_type": "markdown",
   "metadata": {},
   "source": [
    "## Define Angles"
   ]
  },
  {
   "cell_type": "code",
   "execution_count": 74,
   "metadata": {},
   "outputs": [],
   "source": [
    "q1=np.linspace(D1min,D1max,4)\n",
    "q2=np.linspace(D2min,D2max,4)\n",
    "q3=np.linspace(D3min,D3max,4)\n",
    "q4=np.linspace(D4min,D4max,4)\n",
    "q5=np.linspace(D5min,D5max,4)\n",
    "q6=0\n",
    "\n",
    "q1r=np.deg2rad(q1)\n",
    "q2r=np.deg2rad(q2)\n",
    "q3r=np.deg2rad(q3)\n",
    "q4r=np.deg2rad(q4)\n",
    "q5r=np.deg2rad(q5)"
   ]
  },
  {
   "cell_type": "code",
   "execution_count": 75,
   "metadata": {},
   "outputs": [],
   "source": [
    "# Create Modified DH parameters\n",
    "alpha0=0\n",
    "alpha1=-pi/2\n",
    "alpha2=0\n",
    "alpha3=0\n",
    "alpha4=-pi/2\n",
    "alpha5=0\n",
    "\n",
    "a0=0\n",
    "a1=0\n",
    "a2=L2\n",
    "a3=0\n",
    "a4=0\n",
    "a5=0\n",
    "\n",
    "d1=L1\n",
    "d2=0\n",
    "d3=0\n",
    "d4=L3\n",
    "d5=0\n",
    "d6=L4+L5"
   ]
  },
  {
   "cell_type": "markdown",
   "metadata": {},
   "source": [
    "## Transfer Matrix"
   ]
  },
  {
   "cell_type": "code",
   "execution_count": 76,
   "metadata": {},
   "outputs": [],
   "source": [
    "# Define Modified DH Transformation matrix\n",
    "def TF_Matrix(alpha,a,d,q):\n",
    "    TF=([[np.cos(q),-np.sin(q),0,a],\n",
    "    [np.sin(q)*np.cos(alpha),np.cos(q)*np.cos(alpha),-np.sin(alpha),-np.sin(alpha)*d],\n",
    "    [np.sin(q)*np.sin(alpha),np.cos(q)*np.sin(alpha),np.cos(alpha),np.cos(alpha)*d],\n",
    "    [0,0,0,1]])\n",
    "    return TF"
   ]
  },
  {
   "cell_type": "code",
   "execution_count": 77,
   "metadata": {},
   "outputs": [],
   "source": [
    "#Constant Transform\n",
    "T5_EE=np.array(TF_Matrix(alpha5,a5,d6,q6))\n",
    "P = [52.8,0.0,63.8,1]"
   ]
  },
  {
   "cell_type": "code",
   "execution_count": 78,
   "metadata": {},
   "outputs": [],
   "source": [
    "# Create individual transformation matrices\n",
    "count=0\n",
    "with open('transforms.csv', 'w') as csvfile:\n",
    "    writer = csv.writer(csvfile, delimiter=',')\n",
    "    writer.writerow(['q1','q2','q3','q4','q5','x','y','z','1'])\n",
    "    for i in q1r:\n",
    "        T0_1=np.array(TF_Matrix(alpha0,a0,d1,i))\n",
    "        for k in q2r:\n",
    "            T1_2=np.array(TF_Matrix(alpha1,a1,d2,k))\n",
    "            for j in q3r:\n",
    "                T2_3=np.array(TF_Matrix(alpha2,a2,d3,j))\n",
    "                for l in q4r:\n",
    "                    T3_4=np.array(TF_Matrix(alpha3,a3,d4,l))\n",
    "                    for h in q5r:\n",
    "                        T4_5=np.array(TF_Matrix(alpha4,a4,d5,h))\n",
    "                        T0_EE=T0_1*T1_2*T2_3*T3_4*T4_5*T5_EE\n",
    "                        P_new = sym.simplify(T0_EE * P)\n",
    "                        data=(i,k,j,l,h,round(P_new[0],3),round(P_new[1],3),round(P_new[2],3),round(P_new[3],3))\n",
    "                        writer.writerow(data)"
   ]
  },
  {
   "cell_type": "code",
   "execution_count": 79,
   "metadata": {},
   "outputs": [
    {
     "name": "stdout",
     "output_type": "stream",
     "text": [
      "--- 0.946122407913208 seconds ---\n"
     ]
    }
   ],
   "source": [
    "print(\"--- %s seconds ---\" % (time.time() - start_time))"
   ]
  },
  {
   "cell_type": "code",
   "execution_count": null,
   "metadata": {},
   "outputs": [],
   "source": []
  }
 ],
 "metadata": {
  "kernelspec": {
   "display_name": "Python 3",
   "language": "python",
   "name": "python3"
  },
  "language_info": {
   "codemirror_mode": {
    "name": "ipython",
    "version": 3
   },
   "file_extension": ".py",
   "mimetype": "text/x-python",
   "name": "python",
   "nbconvert_exporter": "python",
   "pygments_lexer": "ipython3",
   "version": "3.6.3"
  }
 },
 "nbformat": 4,
 "nbformat_minor": 2
}
