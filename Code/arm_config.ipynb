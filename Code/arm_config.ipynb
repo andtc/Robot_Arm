{
 "cells": [
  {
   "cell_type": "code",
   "execution_count": 25,
   "metadata": {},
   "outputs": [],
   "source": [
    "import matplotlib.pyplot as plt\n",
    "import numpy as np\n",
    "\n",
    "# Define a function to compute the arm configuration\n",
    "def compute_arm_config(link1_length, link2_length, joint0_angle, joint1_angle):\n",
    "    # TODO: compute the (x, y) position of the p1 joint and the end effector at p2.  \n",
    "    joint1_x = link1_length*np.cos(joint0_angle)\n",
    "    joint1_y = link1_length*np.sin(joint0_angle)\n",
    "    p2_x = joint1_x+link2_length*np.cos(joint0_angle+joint1_angle)\n",
    "    p2_y =joint1_y+ link2_length*np.sin(joint0_angle+joint1_angle)\n",
    "    return joint1_x, joint1_y, p2_x, p2_y\n",
    " \n",
    " "
   ]
  },
  {
   "cell_type": "code",
   "execution_count": 26,
   "metadata": {},
   "outputs": [],
   "source": [
    "   \n",
    "# Generate random link lengths and joint angles\n",
    "# Note: because these are randomly generated on each run\n",
    "# Every time you run the code you'll get a different result!\n",
    "link1_length = np.random.random() * 30 + 20\n",
    "link2_length = np.random.random() * 30 + 20\n",
    "joint0_angle = np.random.random() * 2 * np.pi\n",
    "joint1_angle = np.random.random() * 2 * np.pi\n"
   ]
  },
  {
   "cell_type": "code",
   "execution_count": 27,
   "metadata": {},
   "outputs": [
    {
     "name": "stdout",
     "output_type": "stream",
     "text": [
      "joint0_angle = 341.0 degrees\n",
      "joint1_angle = 154.6 degrees\n",
      "End Effector at x = 13.9 y = 12.5\n"
     ]
    },
    {
     "data": {
      "image/png": "[encoded data removed]",
      "text/plain": [
       "<matplotlib.figure.Figure at 0x232dfd6df60>"
      ]
     },
     "metadata": {},
     "output_type": "display_data"
    }
   ],
   "source": [
    "\n",
    "joint1_x, joint1_y, p2_x, p2_y = compute_arm_config(link1_length, link2_length, joint0_angle, joint1_angle)\n",
    "\n",
    "print(\"joint0_angle =\", round(joint0_angle * 180 / np.pi, 1), \"degrees\") \n",
    "print(\"joint1_angle =\", round(joint1_angle * 180 / np.pi, 1),\"degrees\") \n",
    "print(\"End Effector at x =\", round(p2_x, 1),\"y =\", round(p2_y, 1))\n",
    "base_x = 0\n",
    "base_y = 0\n",
    "# Plot the links\n",
    "plt.plot([base_x, joint1_x, p2_x], [base_y, joint1_y, p2_y])\n",
    "# Plot the base as a blue square\n",
    "plt.plot(base_x, base_y, 'bs', markersize=15, label='Base')\n",
    "# Plot Joint-1 as a red circle\n",
    "plt.plot(joint1_x, joint1_y, 'ro', markersize=15, label='Joint-1')\n",
    "# Plot End Effector as a green triangle\n",
    "plt.plot(p2_x, p2_y, 'g^', markersize=15, label='End Effector')\n",
    "plt.xlim(-100, 100)\n",
    "plt.ylim(-100, 100)\n",
    "plt.legend(fontsize=15)\n",
    "plt.show()"
   ]
  },
  {
   "cell_type": "code",
   "execution_count": null,
   "metadata": {},
   "outputs": [],
   "source": []
  }
 ],
 "metadata": {
  "kernelspec": {
   "display_name": "Python [conda env:RoboND]",
   "language": "python",
   "name": "conda-env-RoboND-py"
  },
  "language_info": {
   "codemirror_mode": {
    "name": "ipython",
    "version": 3
   },
   "file_extension": ".py",
   "mimetype": "text/x-python",
   "name": "python",
   "nbconvert_exporter": "python",
   "pygments_lexer": "ipython3",
   "version": "3.5.2"
  },
  "widgets": {
   "state": {},
   "version": "1.1.2"
  }
 },
 "nbformat": 4,
 "nbformat_minor": 2
}
