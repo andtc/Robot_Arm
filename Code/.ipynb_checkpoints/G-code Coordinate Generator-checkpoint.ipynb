{
 "cells": [
  {
   "cell_type": "markdown",
   "metadata": {},
   "source": [
    "# This code is to generate G-Code for the arm designed"
   ]
  },
  {
   "cell_type": "code",
   "execution_count": 176,
   "metadata": {},
   "outputs": [],
   "source": [
    "import sympy as sym\n",
    "import numpy as np\n",
    "import pandas as pd\n",
    "pi=np.pi"
   ]
  },
  {
   "cell_type": "markdown",
   "metadata": {},
   "source": [
    "## Lengths"
   ]
  },
  {
   "cell_type": "code",
   "execution_count": 177,
   "metadata": {},
   "outputs": [],
   "source": [
    "L1=3.68#cm Base Height\n",
    "L2=36#cm\n",
    "L3=19.8#cm\n",
    "L4=14#cm\n",
    "L5=13.3#cm"
   ]
  },
  {
   "cell_type": "markdown",
   "metadata": {},
   "source": [
    "## Joint Movement Freedom"
   ]
  },
  {
   "cell_type": "markdown",
   "metadata": {},
   "source": [
    "## Joint 1"
   ]
  },
  {
   "cell_type": "code",
   "execution_count": 178,
   "metadata": {},
   "outputs": [],
   "source": [
    "D1min=0\n",
    "D1max=360"
   ]
  },
  {
   "cell_type": "markdown",
   "metadata": {},
   "source": [
    "## Joint 2"
   ]
  },
  {
   "cell_type": "code",
   "execution_count": 179,
   "metadata": {},
   "outputs": [],
   "source": [
    "D2min=-115\n",
    "D2max=115"
   ]
  },
  {
   "cell_type": "markdown",
   "metadata": {},
   "source": [
    "## Joint 3"
   ]
  },
  {
   "cell_type": "code",
   "execution_count": 180,
   "metadata": {},
   "outputs": [],
   "source": [
    "D3min=-105\n",
    "D3max=105"
   ]
  },
  {
   "cell_type": "markdown",
   "metadata": {},
   "source": [
    "## Joint 4"
   ]
  },
  {
   "cell_type": "code",
   "execution_count": 181,
   "metadata": {},
   "outputs": [],
   "source": [
    "D4min=-65\n",
    "D4max=115"
   ]
  },
  {
   "cell_type": "markdown",
   "metadata": {},
   "source": [
    "## Joint 5"
   ]
  },
  {
   "cell_type": "code",
   "execution_count": 182,
   "metadata": {},
   "outputs": [],
   "source": [
    "D5min=0\n",
    "D5max=360"
   ]
  },
  {
   "cell_type": "markdown",
   "metadata": {},
   "source": [
    "## Define Angles"
   ]
  },
  {
   "cell_type": "code",
   "execution_count": 183,
   "metadata": {},
   "outputs": [],
   "source": [
    "DOF1D=np.linspace(D1min,D1max,200)\n",
    "DOF2D=np.linspace(D2min,D2max,200)\n",
    "DOF3D=np.linspace(D3min,D3max,200)\n",
    "DOF4D=np.linspace(D4min,D4max,200)\n",
    "DOF5D=np.linspace(D5min,D5max,200)"
   ]
  },
  {
   "cell_type": "code",
   "execution_count": 184,
   "metadata": {},
   "outputs": [],
   "source": [
    "q1=0\n",
    "q2=0\n",
    "q3=0\n",
    "q4=0\n",
    "q5=0\n",
    "q6=0"
   ]
  },
  {
   "cell_type": "code",
   "execution_count": 185,
   "metadata": {},
   "outputs": [],
   "source": [
    "# Create Modified DH parameters\n",
    "alpha0=0\n",
    "alpha1=-pi/2\n",
    "alpha2=0\n",
    "alpha3=0\n",
    "alpha4=-pi/2\n",
    "alpha5=0\n",
    "\n",
    "a0=0\n",
    "a1=0\n",
    "a2=L2\n",
    "a3=0\n",
    "a4=0\n",
    "a5=0\n",
    "\n",
    "d1=L1\n",
    "d2=0\n",
    "d3=0\n",
    "d4=L3\n",
    "d5=0\n",
    "d6=L4+L5"
   ]
  },
  {
   "cell_type": "markdown",
   "metadata": {},
   "source": [
    "## Transfer Matrix"
   ]
  },
  {
   "cell_type": "code",
   "execution_count": 186,
   "metadata": {},
   "outputs": [],
   "source": [
    "# Define Modified DH Transformation matrix\n",
    "def TF_Matrix(alpha,a,d,q):\n",
    "    TF=([[np.cos(q),-np.sin(q),0,a],\n",
    "    [np.sin(q)*np.cos(alpha),np.cos(q)*np.cos(alpha),-np.sin(alpha),-np.sin(alpha)*d],\n",
    "    [np.sin(q)*np.sin(alpha),np.cos(q)*np.sin(alpha),np.cos(alpha),np.cos(alpha)*d],\n",
    "    [0,0,0,1]])\n",
    "    return TF"
   ]
  },
  {
   "cell_type": "code",
   "execution_count": 187,
   "metadata": {},
   "outputs": [],
   "source": [
    "# Create individual transformation matrices\n",
    "T0_1=np.array(TF_Matrix(alpha0,a0,d1,q1))\n",
    "T1_2=np.array(TF_Matrix(alpha1,a1,d2,q2))\n",
    "T2_3=np.array(TF_Matrix(alpha2,a2,d3,q3))\n",
    "T3_4=np.array(TF_Matrix(alpha3,a3,d4,q4))\n",
    "T4_5=np.array(TF_Matrix(alpha4,a4,d5,q5))\n",
    "T5_EE=np.array(TF_Matrix(alpha5,a5,d6,q6))"
   ]
  },
  {
   "cell_type": "code",
   "execution_count": 188,
   "metadata": {},
   "outputs": [],
   "source": [
    "# Extract rotation matrices from the transformation matrices\n",
    "T0_EE=T0_1*T1_2*T2_3*T3_4*T4_5*T5_EE"
   ]
  },
  {
   "cell_type": "code",
   "execution_count": 189,
   "metadata": {},
   "outputs": [
    {
     "name": "stdout",
     "output_type": "stream",
     "text": [
      "[[1.00000000e+00 0.00000000e+00 0.00000000e+00 0.00000000e+00]\n",
      " [0.00000000e+00 3.74939946e-33 0.00000000e+00 0.00000000e+00]\n",
      " [0.00000000e+00 0.00000000e+00 3.74939946e-33 0.00000000e+00]\n",
      " [0.00000000e+00 0.00000000e+00 0.00000000e+00 1.00000000e+00]]\n"
     ]
    }
   ],
   "source": [
    "print(T0_EE)"
   ]
  }
 ],
 "metadata": {
  "kernelspec": {
   "display_name": "Python 3",
   "language": "python",
   "name": "python3"
  },
  "language_info": {
   "codemirror_mode": {
    "name": "ipython",
    "version": 3
   },
   "file_extension": ".py",
   "mimetype": "text/x-python",
   "name": "python",
   "nbconvert_exporter": "python",
   "pygments_lexer": "ipython3",
   "version": "3.6.3"
  }
 },
 "nbformat": 4,
 "nbformat_minor": 2
}
