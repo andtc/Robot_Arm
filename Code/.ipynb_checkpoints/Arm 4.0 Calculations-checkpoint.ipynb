{
 "cells": [
  {
   "cell_type": "markdown",
   "metadata": {},
   "source": [
    "# Torque Calculations Ver 2.0"
   ]
  },
  {
   "cell_type": "markdown",
   "metadata": {},
   "source": [
    "Author: Andres Tapia"
   ]
  },
  {
   "cell_type": "markdown",
   "metadata": {},
   "source": [
    "This code was built since the previous code needed too many changes to update thus this new code will be used for the V4.0 Arm developed"
   ]
  },
  {
   "cell_type": "markdown",
   "metadata": {},
   "source": [
    "## Libraries"
   ]
  },
  {
   "cell_type": "code",
   "execution_count": 26,
   "metadata": {},
   "outputs": [],
   "source": [
    "import pandas as pd\n",
    "import numpy as np\n",
    "import sympy as sym"
   ]
  },
  {
   "cell_type": "markdown",
   "metadata": {},
   "source": [
    "## Constants"
   ]
  },
  {
   "cell_type": "markdown",
   "metadata": {},
   "source": [
    "Define constants such as gravity"
   ]
  },
  {
   "cell_type": "code",
   "execution_count": 27,
   "metadata": {},
   "outputs": [],
   "source": [
    "g=9.81 #m/s^2 gravity"
   ]
  },
  {
   "cell_type": "markdown",
   "metadata": {},
   "source": [
    "## Motors"
   ]
  },
  {
   "cell_type": "markdown",
   "metadata": {},
   "source": [
    "Define Weights of Motors"
   ]
  },
  {
   "cell_type": "code",
   "execution_count": 28,
   "metadata": {},
   "outputs": [],
   "source": [
    "NEMA23=0.8#kg\n",
    "NEMA34=2.65# kg \n",
    "NEMA17=0.39#kg \n",
    "NEMA17Geared=0.5#kg"
   ]
  },
  {
   "cell_type": "markdown",
   "metadata": {},
   "source": [
    "# Igus Joints"
   ]
  },
  {
   "cell_type": "markdown",
   "metadata": {},
   "source": [
    "## RLD-50"
   ]
  },
  {
   "cell_type": "code",
   "execution_count": 29,
   "metadata": {},
   "outputs": [],
   "source": [
    "RLD50W=2.05#kg\n",
    "N50=48#Gear Ratio"
   ]
  },
  {
   "cell_type": "markdown",
   "metadata": {},
   "source": [
    "## RLD-30"
   ]
  },
  {
   "cell_type": "code",
   "execution_count": 30,
   "metadata": {},
   "outputs": [],
   "source": [
    "RLD30W=0.79#kg\n",
    "N30=50#Gear Ratio"
   ]
  },
  {
   "cell_type": "markdown",
   "metadata": {},
   "source": [
    "## RLD-20"
   ]
  },
  {
   "cell_type": "code",
   "execution_count": 31,
   "metadata": {},
   "outputs": [],
   "source": [
    "RLD20W=0.41#kg\n",
    "N20=38#Gear Ratio"
   ]
  },
  {
   "cell_type": "markdown",
   "metadata": {},
   "source": [
    "## NEMA 17 Geared"
   ]
  },
  {
   "cell_type": "code",
   "execution_count": 32,
   "metadata": {},
   "outputs": [],
   "source": [
    "N17=27 #Gear Ratio"
   ]
  },
  {
   "cell_type": "markdown",
   "metadata": {},
   "source": [
    "# Arm Calculations"
   ]
  },
  {
   "cell_type": "markdown",
   "metadata": {},
   "source": [
    "## Define Joints"
   ]
  },
  {
   "cell_type": "markdown",
   "metadata": {},
   "source": [
    "## Joint 1"
   ]
  },
  {
   "cell_type": "code",
   "execution_count": 33,
   "metadata": {},
   "outputs": [],
   "source": [
    "J1=RLD50W*g"
   ]
  },
  {
   "cell_type": "markdown",
   "metadata": {},
   "source": [
    "## Joint 2"
   ]
  },
  {
   "cell_type": "code",
   "execution_count": 34,
   "metadata": {},
   "outputs": [],
   "source": [
    "AS2=0.308#kg Arm Segment mass\n",
    "J2=(NEMA34+RLD50W)*g# N\n",
    "A2=2*AS2*g#N\n",
    "L2=36#cm RLD50 to RLD30\n",
    "x5=18.98#cm RLD50 to center of mass of arm segment"
   ]
  },
  {
   "cell_type": "markdown",
   "metadata": {},
   "source": [
    "## Joint 3"
   ]
  },
  {
   "cell_type": "code",
   "execution_count": 35,
   "metadata": {},
   "outputs": [],
   "source": [
    "AS3=0.518#kg arm segment mass\n",
    "J3=(NEMA17+RLD30W)*g# N\n",
    "A3=2*AS3*g#N 2 arm segments\n",
    "L3=19.8#cm RLD30 to RLD 20\n",
    "x4=10.8#cm RLD30 to Center of mass of arm segments"
   ]
  },
  {
   "cell_type": "markdown",
   "metadata": {},
   "source": [
    "## Joint 4"
   ]
  },
  {
   "cell_type": "code",
   "execution_count": 36,
   "metadata": {},
   "outputs": [],
   "source": [
    "AS4=0.093#kg Arm segment mass\n",
    "J4=(RLD20W+NEMA17)*g# N\n",
    "A4=2*AS4*g# N 2 arm segments\n",
    "L4=14#cm RLD-20 to Joint 5\n",
    "x3=7.5#cm RLD20 to Center of mass of arm segments"
   ]
  },
  {
   "cell_type": "markdown",
   "metadata": {},
   "source": [
    "## Joint 5"
   ]
  },
  {
   "cell_type": "code",
   "execution_count": 37,
   "metadata": {},
   "outputs": [],
   "source": [
    "AS5=0.04#kg Arm segment mass\n",
    "J5=NEMA17Geared*g# N\n",
    "A5=AS5*g# N\n",
    "We=.23*g# N\n",
    "x1=13.3#cm Motor to End Effector\n",
    "x2=9.7#cm Motor to Mount\n",
    "L5=6.5#cm Length from Motor to tip of End Effector"
   ]
  },
  {
   "cell_type": "markdown",
   "metadata": {},
   "source": [
    "## Load"
   ]
  },
  {
   "cell_type": "code",
   "execution_count": 38,
   "metadata": {},
   "outputs": [],
   "source": [
    "ml=2#kg\n",
    "Fl=ml*g#N"
   ]
  },
  {
   "cell_type": "markdown",
   "metadata": {},
   "source": [
    "## Torque Calculations"
   ]
  },
  {
   "cell_type": "code",
   "execution_count": 39,
   "metadata": {},
   "outputs": [],
   "source": [
    "T5=(We*x1+A5*x2+Fl*L5)/100\n",
    "T4=(We*(L4+x1)+(A5*(L4+x2))+(J5*L4)+(A4*x3)+(Fl*(L5+L4)))/100\n",
    "T3=(We*(L3+L4+x1)+(A5*(L3+L4+x2))+(J5*(L4+L3))+(A4*(L3+x3))+(Fl*(L5+L4+L3)))/100\n",
    "T2=(We*(L2+L3+L4+x1)+(A5*(L2+L3+L4+x2))+(J5*(L2+L4+L3))+(A4*(L2+L3+x3))+(Fl*(L2+L5+L4+L3)))/100"
   ]
  },
  {
   "cell_type": "code",
   "execution_count": 40,
   "metadata": {},
   "outputs": [
    {
     "data": {
      "text/html": [
       "<div>\n",
       "<style scoped>\n",
       "    .dataframe tbody tr th:only-of-type {\n",
       "        vertical-align: middle;\n",
       "    }\n",
       "\n",
       "    .dataframe tbody tr th {\n",
       "        vertical-align: top;\n",
       "    }\n",
       "\n",
       "    .dataframe thead th {\n",
       "        text-align: right;\n",
       "    }\n",
       "</style>\n",
       "<table border=\"1\" class=\"dataframe\">\n",
       "  <thead>\n",
       "    <tr style=\"text-align: right;\">\n",
       "      <th></th>\n",
       "      <th>N-m</th>\n",
       "    </tr>\n",
       "  </thead>\n",
       "  <tbody>\n",
       "    <tr>\n",
       "      <th>DOF2</th>\n",
       "      <td>21.74</td>\n",
       "    </tr>\n",
       "    <tr>\n",
       "      <th>DOF3</th>\n",
       "      <td>11.30</td>\n",
       "    </tr>\n",
       "    <tr>\n",
       "      <th>DOF4</th>\n",
       "      <td>5.55</td>\n",
       "    </tr>\n",
       "    <tr>\n",
       "      <th>DOF5</th>\n",
       "      <td>1.61</td>\n",
       "    </tr>\n",
       "  </tbody>\n",
       "</table>\n",
       "</div>"
      ],
      "text/plain": [
       "        N-m\n",
       "DOF2  21.74\n",
       "DOF3  11.30\n",
       "DOF4   5.55\n",
       "DOF5   1.61"
      ]
     },
     "execution_count": 40,
     "metadata": {},
     "output_type": "execute_result"
    }
   ],
   "source": [
    "T={ 'N-m': [round(T2,2),round(T3,2),round(T4,2),round(T5,2)]}\n",
    "pd.DataFrame(data=T, index=['DOF2', 'DOF3', 'DOF4', 'DOF5'])\n"
   ]
  },
  {
   "cell_type": "markdown",
   "metadata": {},
   "source": [
    "## Arm Weights"
   ]
  },
  {
   "cell_type": "code",
   "execution_count": 41,
   "metadata": {},
   "outputs": [],
   "source": [
    "W1=J1+J2+J3+J4+J5+A2+A3+A4+A5+We\n",
    "W2=J2+J3+J4+J5+A2+A3+A4+A5+We\n",
    "W3=J3+J4+J5+A3+A4+A5+We\n",
    "W4=J4+J5+A4+A5+We\n",
    "W5=J5+A5+We"
   ]
  },
  {
   "cell_type": "code",
   "execution_count": 42,
   "metadata": {},
   "outputs": [
    {
     "data": {
      "text/html": [
       "<div>\n",
       "<style scoped>\n",
       "    .dataframe tbody tr th:only-of-type {\n",
       "        vertical-align: middle;\n",
       "    }\n",
       "\n",
       "    .dataframe tbody tr th {\n",
       "        vertical-align: top;\n",
       "    }\n",
       "\n",
       "    .dataframe thead th {\n",
       "        text-align: right;\n",
       "    }\n",
       "</style>\n",
       "<table border=\"1\" class=\"dataframe\">\n",
       "  <thead>\n",
       "    <tr style=\"text-align: right;\">\n",
       "      <th></th>\n",
       "      <th>N</th>\n",
       "      <th>kg</th>\n",
       "    </tr>\n",
       "  </thead>\n",
       "  <tbody>\n",
       "    <tr>\n",
       "      <th>DOF1</th>\n",
       "      <td>111.23</td>\n",
       "      <td>11.34</td>\n",
       "    </tr>\n",
       "    <tr>\n",
       "      <th>DOF2</th>\n",
       "      <td>91.12</td>\n",
       "      <td>9.29</td>\n",
       "    </tr>\n",
       "    <tr>\n",
       "      <th>DOF3</th>\n",
       "      <td>38.97</td>\n",
       "      <td>3.97</td>\n",
       "    </tr>\n",
       "    <tr>\n",
       "      <th>DOF4</th>\n",
       "      <td>17.23</td>\n",
       "      <td>1.76</td>\n",
       "    </tr>\n",
       "    <tr>\n",
       "      <th>DOF5</th>\n",
       "      <td>7.55</td>\n",
       "      <td>0.77</td>\n",
       "    </tr>\n",
       "  </tbody>\n",
       "</table>\n",
       "</div>"
      ],
      "text/plain": [
       "           N     kg\n",
       "DOF1  111.23  11.34\n",
       "DOF2   91.12   9.29\n",
       "DOF3   38.97   3.97\n",
       "DOF4   17.23   1.76\n",
       "DOF5    7.55   0.77"
      ]
     },
     "execution_count": 42,
     "metadata": {},
     "output_type": "execute_result"
    }
   ],
   "source": [
    "weight={ 'N': [round(W1,2),round(W2,2),round(W3,2),round(W4,2),round(W5,2)],'kg': [round(W1/g,2),round(W2/g,2),round(W3/g,2),round(W4/g,2),round(W5/g,2)]}\n",
    "pd.DataFrame(data=weight,columns=['N','kg'], index=['DOF1','DOF2', 'DOF3', 'DOF4', 'DOF5'])\n"
   ]
  },
  {
   "cell_type": "markdown",
   "metadata": {},
   "source": [
    "## Dynamic Loads"
   ]
  },
  {
   "cell_type": "markdown",
   "metadata": {},
   "source": [
    "### RPM"
   ]
  },
  {
   "cell_type": "code",
   "execution_count": 43,
   "metadata": {},
   "outputs": [],
   "source": [
    "RPM1=288\n",
    "RPM2=240\n",
    "RPM3=150\n",
    "RPM4=600\n",
    "RPM5=1000"
   ]
  },
  {
   "cell_type": "markdown",
   "metadata": {},
   "source": [
    "## Angular Velocity Equation"
   ]
  },
  {
   "cell_type": "code",
   "execution_count": 44,
   "metadata": {},
   "outputs": [],
   "source": [
    "RPM=sym.symbols('RPM')\n",
    "w=(RPM*(2*np.pi))/60"
   ]
  },
  {
   "cell_type": "markdown",
   "metadata": {},
   "source": [
    "## Angular Velocities rad/s"
   ]
  },
  {
   "cell_type": "code",
   "execution_count": 45,
   "metadata": {},
   "outputs": [],
   "source": [
    "w1=w.subs({RPM:RPM1})\n",
    "w2=w.subs({RPM:RPM2})\n",
    "w3=w.subs({RPM:RPM3})\n",
    "w4=w.subs({RPM:RPM4})\n",
    "w5=w.subs({RPM:RPM5})"
   ]
  },
  {
   "cell_type": "markdown",
   "metadata": {},
   "source": [
    "## Angular Accelerations rad/s^2"
   ]
  },
  {
   "cell_type": "code",
   "execution_count": 46,
   "metadata": {},
   "outputs": [],
   "source": [
    "a=6*np.pi#rad/s^2\n",
    "deltat=0.5#sec\n",
    "a1=a/N50\n",
    "a2=a/N50\n",
    "a3=a/N30\n",
    "a4=a/N20\n",
    "a5=a/N17\n"
   ]
  },
  {
   "cell_type": "markdown",
   "metadata": {},
   "source": [
    "## Angular Torque g/cm^2"
   ]
  },
  {
   "cell_type": "code",
   "execution_count": 57,
   "metadata": {},
   "outputs": [],
   "source": [
    "#Parrallel Axis Offset\n",
    "d2=17.75#cm\n",
    "d3=9.76#cm\n",
    "d4=6.1#cm\n",
    "d5=5.72#cm\n",
    "\n",
    "I1=2065\n",
    "I2=129740+((A2*1000*100)*d2)\n",
    "I3=55020+((A3*1000*100)*d3)\n",
    "I4=4832+((A4*1000*100)*d4)\n",
    "I5=208.8+((A5*1000*100)*d5)\n",
    "It1=I1+I2+I3+I4+I5\n",
    "Lt1=L2+L3+L4+L5\n",
    "It2=I2+I3+I4+I5\n",
    "Lt2=L2+L3+L4+L5\n",
    "It3=I3+I4+I5\n",
    "Lt3=L3+L4+L5\n",
    "It4=I4+I5\n",
    "Lt4=L4+L5\n",
    "It5=I5\n",
    "Lt5=L5"
   ]
  },
  {
   "cell_type": "code",
   "execution_count": 64,
   "metadata": {},
   "outputs": [],
   "source": [
    "aT1=It1*a1/(1000*100**2)\n",
    "aT2=It2*a2/(1000*100**2)\n",
    "aT3=It3*a3/(1000*100**2)\n",
    "aT4=It4*a4/(1000*100**2)\n",
    "aT5=It5*a5/(1000*100**2)\n"
   ]
  },
  {
   "cell_type": "code",
   "execution_count": 65,
   "metadata": {},
   "outputs": [
    {
     "data": {
      "text/html": [
       "<div>\n",
       "<style scoped>\n",
       "    .dataframe tbody tr th:only-of-type {\n",
       "        vertical-align: middle;\n",
       "    }\n",
       "\n",
       "    .dataframe tbody tr th {\n",
       "        vertical-align: top;\n",
       "    }\n",
       "\n",
       "    .dataframe thead th {\n",
       "        text-align: right;\n",
       "    }\n",
       "</style>\n",
       "<table border=\"1\" class=\"dataframe\">\n",
       "  <thead>\n",
       "    <tr style=\"text-align: right;\">\n",
       "      <th></th>\n",
       "      <th>N-m</th>\n",
       "    </tr>\n",
       "  </thead>\n",
       "  <tbody>\n",
       "    <tr>\n",
       "      <th>DOF1</th>\n",
       "      <td>0.871</td>\n",
       "    </tr>\n",
       "    <tr>\n",
       "      <th>DOF2</th>\n",
       "      <td>0.871</td>\n",
       "    </tr>\n",
       "    <tr>\n",
       "      <th>DOF3</th>\n",
       "      <td>0.427</td>\n",
       "    </tr>\n",
       "    <tr>\n",
       "      <th>DOF4</th>\n",
       "      <td>0.067</td>\n",
       "    </tr>\n",
       "    <tr>\n",
       "      <th>DOF5</th>\n",
       "      <td>0.016</td>\n",
       "    </tr>\n",
       "  </tbody>\n",
       "</table>\n",
       "</div>"
      ],
      "text/plain": [
       "        N-m\n",
       "DOF1  0.871\n",
       "DOF2  0.871\n",
       "DOF3  0.427\n",
       "DOF4  0.067\n",
       "DOF5  0.016"
      ]
     },
     "execution_count": 65,
     "metadata": {},
     "output_type": "execute_result"
    }
   ],
   "source": [
    "aT={ 'N-m': [round(aT1,3),round(aT2,3),round(aT3,3),round(aT4,3),round(aT5,3)]}\n",
    "pd.DataFrame(data=aT,columns=['N-m'], index=['DOF1','DOF2', 'DOF3', 'DOF4', 'DOF5'])"
   ]
  },
  {
   "cell_type": "code",
   "execution_count": 60,
   "metadata": {},
   "outputs": [
    {
     "data": {
      "text/html": [
       "<div>\n",
       "<style scoped>\n",
       "    .dataframe tbody tr th:only-of-type {\n",
       "        vertical-align: middle;\n",
       "    }\n",
       "\n",
       "    .dataframe tbody tr th {\n",
       "        vertical-align: top;\n",
       "    }\n",
       "\n",
       "    .dataframe thead th {\n",
       "        text-align: right;\n",
       "    }\n",
       "</style>\n",
       "<table border=\"1\" class=\"dataframe\">\n",
       "  <thead>\n",
       "    <tr style=\"text-align: right;\">\n",
       "      <th></th>\n",
       "      <th>N-m</th>\n",
       "    </tr>\n",
       "  </thead>\n",
       "  <tbody>\n",
       "    <tr>\n",
       "      <th>DOF1</th>\n",
       "      <td>0.87</td>\n",
       "    </tr>\n",
       "    <tr>\n",
       "      <th>DOF2</th>\n",
       "      <td>22.61</td>\n",
       "    </tr>\n",
       "    <tr>\n",
       "      <th>DOF3</th>\n",
       "      <td>11.72</td>\n",
       "    </tr>\n",
       "    <tr>\n",
       "      <th>DOF4</th>\n",
       "      <td>5.62</td>\n",
       "    </tr>\n",
       "    <tr>\n",
       "      <th>DOF5</th>\n",
       "      <td>1.63</td>\n",
       "    </tr>\n",
       "  </tbody>\n",
       "</table>\n",
       "</div>"
      ],
      "text/plain": [
       "        N-m\n",
       "DOF1   0.87\n",
       "DOF2  22.61\n",
       "DOF3  11.72\n",
       "DOF4   5.62\n",
       "DOF5   1.63"
      ]
     },
     "execution_count": 60,
     "metadata": {},
     "output_type": "execute_result"
    }
   ],
   "source": [
    "TT1=aT1\n",
    "TT2=aT2+T2\n",
    "TT3=aT3+T3\n",
    "TT4=aT4+T4\n",
    "TT5=aT5+T5\n",
    "\n",
    "TT={ 'N-m': [round(TT1,2),round(TT2,2),round(TT3,2),round(TT4,2),round(TT5,2)]}\n",
    "pd.DataFrame(data=TT,columns=['N-m'], index=['DOF1','DOF2', 'DOF3', 'DOF4', 'DOF5'])"
   ]
  },
  {
   "cell_type": "code",
   "execution_count": null,
   "metadata": {},
   "outputs": [],
   "source": []
  },
  {
   "cell_type": "code",
   "execution_count": null,
   "metadata": {},
   "outputs": [],
   "source": []
  }
 ],
 "metadata": {
  "kernelspec": {
   "display_name": "Python 3",
   "language": "python",
   "name": "python3"
  },
  "language_info": {
   "codemirror_mode": {
    "name": "ipython",
    "version": 3
   },
   "file_extension": ".py",
   "mimetype": "text/x-python",
   "name": "python",
   "nbconvert_exporter": "python",
   "pygments_lexer": "ipython3",
   "version": "3.6.3"
  }
 },
 "nbformat": 4,
 "nbformat_minor": 2
}
